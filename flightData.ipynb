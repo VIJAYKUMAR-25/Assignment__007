{
 "cells": [
  {
   "cell_type": "markdown",
   "id": "16c5efea",
   "metadata": {},
   "source": [
    "# import the nescessary modules"
   ]
  },
  {
   "cell_type": "code",
   "execution_count": 1,
   "id": "74cc49a0",
   "metadata": {},
   "outputs": [],
   "source": [
    "import pandas as pd\n",
    "import numpy as np\n",
    "import seaborn as sns\n",
    "from scipy import stats\n",
    "import matplotlib.pyplot as plt\n",
    "from scipy.stats import pearsonr\n",
    "from sklearn.model_selection import train_test_split\n",
    "from sklearn.linear_model import LogisticRegression\n",
    "from sklearn.metrics import mean_squared_error\n",
    "from sklearn.metrics import confusion_matrix, accuracy_score\n",
    "from sklearn.preprocessing import MinMaxScaler\n",
    "from sklearn import tree\n",
    "from sklearn.tree import DecisionTreeClassifier\n",
    "from sklearn.metrics import accuracy_score\n",
    "from sklearn.ensemble import RandomForestRegressor #ensemble---group\n",
    "from sklearn.ensemble import GradientBoostingClassifier"
   ]
  },
  {
   "cell_type": "code",
   "execution_count": 2,
   "id": "1920fb06",
   "metadata": {},
   "outputs": [],
   "source": [
    "df = pd.read_excel(\"C:/Users/ELCOT/Downloads/Flight .xlsx\")"
   ]
  },
  {
   "cell_type": "code",
   "execution_count": 3,
   "id": "3878349b",
   "metadata": {},
   "outputs": [
    {
     "data": {
      "text/html": [
       "<div>\n",
       "<style scoped>\n",
       "    .dataframe tbody tr th:only-of-type {\n",
       "        vertical-align: middle;\n",
       "    }\n",
       "\n",
       "    .dataframe tbody tr th {\n",
       "        vertical-align: top;\n",
       "    }\n",
       "\n",
       "    .dataframe thead th {\n",
       "        text-align: right;\n",
       "    }\n",
       "</style>\n",
       "<table border=\"1\" class=\"dataframe\">\n",
       "  <thead>\n",
       "    <tr style=\"text-align: right;\">\n",
       "      <th></th>\n",
       "      <th>Person</th>\n",
       "      <th>Item_Identifier</th>\n",
       "      <th>Length</th>\n",
       "      <th>Breadth</th>\n",
       "      <th>PaperQuality</th>\n",
       "      <th>Angle</th>\n",
       "      <th>Foldings</th>\n",
       "      <th>Windspeed</th>\n",
       "      <th>Dominanthand</th>\n",
       "      <th>Distance</th>\n",
       "    </tr>\n",
       "  </thead>\n",
       "  <tbody>\n",
       "    <tr>\n",
       "      <th>0</th>\n",
       "      <td>Kevin</td>\n",
       "      <td>Som</td>\n",
       "      <td>29.0</td>\n",
       "      <td>20.0</td>\n",
       "      <td>A</td>\n",
       "      <td>U</td>\n",
       "      <td>8.0</td>\n",
       "      <td>On</td>\n",
       "      <td>L</td>\n",
       "      <td>5.0</td>\n",
       "    </tr>\n",
       "    <tr>\n",
       "      <th>1</th>\n",
       "      <td>Kevin</td>\n",
       "      <td>kevin</td>\n",
       "      <td>23.0</td>\n",
       "      <td>16.0</td>\n",
       "      <td>B</td>\n",
       "      <td>U</td>\n",
       "      <td>8.0</td>\n",
       "      <td>On</td>\n",
       "      <td>L</td>\n",
       "      <td>5.0</td>\n",
       "    </tr>\n",
       "    <tr>\n",
       "      <th>2</th>\n",
       "      <td>Kevin</td>\n",
       "      <td>RR</td>\n",
       "      <td>NaN</td>\n",
       "      <td>18.0</td>\n",
       "      <td>A</td>\n",
       "      <td>L</td>\n",
       "      <td>10.0</td>\n",
       "      <td>On</td>\n",
       "      <td>R</td>\n",
       "      <td>6.0</td>\n",
       "    </tr>\n",
       "    <tr>\n",
       "      <th>3</th>\n",
       "      <td>Priya</td>\n",
       "      <td>Nithya</td>\n",
       "      <td>27.0</td>\n",
       "      <td>20.0</td>\n",
       "      <td>A</td>\n",
       "      <td>U</td>\n",
       "      <td>10.0</td>\n",
       "      <td>On</td>\n",
       "      <td>R</td>\n",
       "      <td>4.0</td>\n",
       "    </tr>\n",
       "    <tr>\n",
       "      <th>4</th>\n",
       "      <td>Priya</td>\n",
       "      <td>Priya</td>\n",
       "      <td>29.5</td>\n",
       "      <td>17.5</td>\n",
       "      <td>B</td>\n",
       "      <td>U</td>\n",
       "      <td>5.0</td>\n",
       "      <td>Off</td>\n",
       "      <td>R</td>\n",
       "      <td>8.0</td>\n",
       "    </tr>\n",
       "  </tbody>\n",
       "</table>\n",
       "</div>"
      ],
      "text/plain": [
       "  Person Item_Identifier  Length  Breadth PaperQuality Angle  Foldings  \\\n",
       "0  Kevin             Som    29.0     20.0            A     U       8.0   \n",
       "1  Kevin           kevin    23.0     16.0            B     U       8.0   \n",
       "2  Kevin              RR     NaN     18.0            A     L      10.0   \n",
       "3  Priya          Nithya    27.0     20.0            A     U      10.0   \n",
       "4  Priya           Priya    29.5     17.5            B     U       5.0   \n",
       "\n",
       "  Windspeed  Dominanthand  Distance  \n",
       "0         On            L       5.0  \n",
       "1         On            L       5.0  \n",
       "2         On            R       6.0  \n",
       "3         On            R       4.0  \n",
       "4        Off            R       8.0  "
      ]
     },
     "execution_count": 3,
     "metadata": {},
     "output_type": "execute_result"
    }
   ],
   "source": [
    "df.head()"
   ]
  },
  {
   "cell_type": "code",
   "execution_count": 4,
   "id": "d2924aaf",
   "metadata": {},
   "outputs": [
    {
     "data": {
      "text/plain": [
       "Person              0\n",
       "Item_Identifier     0\n",
       "Length             17\n",
       "Breadth             0\n",
       "PaperQuality        8\n",
       "Angle               4\n",
       "Foldings            0\n",
       "Windspeed           0\n",
       "Dominanthand        0\n",
       "Distance            0\n",
       "dtype: int64"
      ]
     },
     "execution_count": 4,
     "metadata": {},
     "output_type": "execute_result"
    }
   ],
   "source": [
    "df.isnull().sum()"
   ]
  },
  {
   "cell_type": "code",
   "execution_count": 5,
   "id": "b50455d8",
   "metadata": {},
   "outputs": [],
   "source": [
    "df.Length.fillna(df.Length.mean(),inplace=True)"
   ]
  },
  {
   "cell_type": "code",
   "execution_count": 6,
   "id": "c48df121",
   "metadata": {},
   "outputs": [],
   "source": [
    "q3 = df[\"Length\"].quantile(0.75)  \n",
    "q1 = df[\"Length\"].quantile(0.25)\n",
    "IQR = q3 - q1\n",
    "lower_limit = q1 - (IQR * 1.5)\n",
    "upper_limit = q3 + (IQR * 1.5)"
   ]
  },
  {
   "cell_type": "code",
   "execution_count": 7,
   "id": "45fd43c2",
   "metadata": {},
   "outputs": [],
   "source": [
    "df['Length'] = np.where(df['Length'] >= upper_limit,upper_limit,np.where(df['Length'] <= lower_limit,lower_limit,df['Length']))"
   ]
  },
  {
   "cell_type": "code",
   "execution_count": 8,
   "id": "a214bd2f",
   "metadata": {},
   "outputs": [
    {
     "name": "stderr",
     "output_type": "stream",
     "text": [
      "C:\\ProgramData\\Anaconda3\\lib\\site-packages\\pandas\\core\\indexing.py:1732: SettingWithCopyWarning: \n",
      "A value is trying to be set on a copy of a slice from a DataFrame\n",
      "\n",
      "See the caveats in the documentation: https://pandas.pydata.org/pandas-docs/stable/user_guide/indexing.html#returning-a-view-versus-a-copy\n",
      "  self._setitem_single_block(indexer, value, name)\n"
     ]
    }
   ],
   "source": [
    "for j in df[df['PaperQuality'].isnull()].index.tolist():\n",
    "    df.PaperQuality.iloc[j] =  df.PaperQuality[df['Item_Identifier']==df['Item_Identifier'].iloc[j]].mode().max()"
   ]
  },
  {
   "cell_type": "code",
   "execution_count": 9,
   "id": "05eb7199",
   "metadata": {},
   "outputs": [],
   "source": [
    "for j in df[df['Angle'].isnull()].index.tolist():\n",
    "    df.Angle.iloc[j] =  df.Angle[df['Person']==df['Person'].iloc[j]].mode().max()"
   ]
  },
  {
   "cell_type": "code",
   "execution_count": 10,
   "id": "94bcd360",
   "metadata": {},
   "outputs": [],
   "source": [
    "df.columns = df.columns.str.replace(' ','')"
   ]
  },
  {
   "cell_type": "code",
   "execution_count": 11,
   "id": "4e456741",
   "metadata": {},
   "outputs": [],
   "source": [
    "df.insert(9,'isDominant','Yes')"
   ]
  },
  {
   "cell_type": "code",
   "execution_count": 12,
   "id": "60035dc0",
   "metadata": {},
   "outputs": [],
   "source": [
    "for i in range(88):\n",
    "    if df.Dominanthand[df['Person']==df.Person.iloc[i]].mode().max() != df.Dominanthand.iloc[i]:\n",
    "        df.isDominant.iloc[i] = 'No'"
   ]
  },
  {
   "cell_type": "code",
   "execution_count": 13,
   "id": "bf3e2d93",
   "metadata": {},
   "outputs": [],
   "source": [
    "df.drop(['Person','Item_Identifier'],axis=1,inplace=True)"
   ]
  },
  {
   "cell_type": "code",
   "execution_count": 14,
   "id": "6d14dbce",
   "metadata": {},
   "outputs": [
    {
     "data": {
      "text/html": [
       "<div>\n",
       "<style scoped>\n",
       "    .dataframe tbody tr th:only-of-type {\n",
       "        vertical-align: middle;\n",
       "    }\n",
       "\n",
       "    .dataframe tbody tr th {\n",
       "        vertical-align: top;\n",
       "    }\n",
       "\n",
       "    .dataframe thead th {\n",
       "        text-align: right;\n",
       "    }\n",
       "</style>\n",
       "<table border=\"1\" class=\"dataframe\">\n",
       "  <thead>\n",
       "    <tr style=\"text-align: right;\">\n",
       "      <th></th>\n",
       "      <th>Length</th>\n",
       "      <th>Breadth</th>\n",
       "      <th>PaperQuality</th>\n",
       "      <th>Angle</th>\n",
       "      <th>Foldings</th>\n",
       "      <th>Windspeed</th>\n",
       "      <th>Dominanthand</th>\n",
       "      <th>isDominant</th>\n",
       "      <th>Distance</th>\n",
       "    </tr>\n",
       "  </thead>\n",
       "  <tbody>\n",
       "    <tr>\n",
       "      <th>0</th>\n",
       "      <td>29.000000</td>\n",
       "      <td>20.0</td>\n",
       "      <td>A</td>\n",
       "      <td>U</td>\n",
       "      <td>8.0</td>\n",
       "      <td>On</td>\n",
       "      <td>L</td>\n",
       "      <td>Yes</td>\n",
       "      <td>5.0</td>\n",
       "    </tr>\n",
       "    <tr>\n",
       "      <th>1</th>\n",
       "      <td>23.000000</td>\n",
       "      <td>16.0</td>\n",
       "      <td>B</td>\n",
       "      <td>U</td>\n",
       "      <td>8.0</td>\n",
       "      <td>On</td>\n",
       "      <td>L</td>\n",
       "      <td>Yes</td>\n",
       "      <td>5.0</td>\n",
       "    </tr>\n",
       "    <tr>\n",
       "      <th>2</th>\n",
       "      <td>26.708451</td>\n",
       "      <td>18.0</td>\n",
       "      <td>A</td>\n",
       "      <td>L</td>\n",
       "      <td>10.0</td>\n",
       "      <td>On</td>\n",
       "      <td>R</td>\n",
       "      <td>No</td>\n",
       "      <td>6.0</td>\n",
       "    </tr>\n",
       "    <tr>\n",
       "      <th>3</th>\n",
       "      <td>27.000000</td>\n",
       "      <td>20.0</td>\n",
       "      <td>A</td>\n",
       "      <td>U</td>\n",
       "      <td>10.0</td>\n",
       "      <td>On</td>\n",
       "      <td>R</td>\n",
       "      <td>Yes</td>\n",
       "      <td>4.0</td>\n",
       "    </tr>\n",
       "    <tr>\n",
       "      <th>4</th>\n",
       "      <td>29.500000</td>\n",
       "      <td>17.5</td>\n",
       "      <td>B</td>\n",
       "      <td>U</td>\n",
       "      <td>5.0</td>\n",
       "      <td>Off</td>\n",
       "      <td>R</td>\n",
       "      <td>Yes</td>\n",
       "      <td>8.0</td>\n",
       "    </tr>\n",
       "    <tr>\n",
       "      <th>5</th>\n",
       "      <td>26.708451</td>\n",
       "      <td>18.5</td>\n",
       "      <td>B</td>\n",
       "      <td>L</td>\n",
       "      <td>5.0</td>\n",
       "      <td>Off</td>\n",
       "      <td>R</td>\n",
       "      <td>Yes</td>\n",
       "      <td>6.0</td>\n",
       "    </tr>\n",
       "    <tr>\n",
       "      <th>6</th>\n",
       "      <td>30.000000</td>\n",
       "      <td>19.0</td>\n",
       "      <td>B</td>\n",
       "      <td>U</td>\n",
       "      <td>8.0</td>\n",
       "      <td>Off</td>\n",
       "      <td>R</td>\n",
       "      <td>Yes</td>\n",
       "      <td>7.0</td>\n",
       "    </tr>\n",
       "  </tbody>\n",
       "</table>\n",
       "</div>"
      ],
      "text/plain": [
       "      Length  Breadth PaperQuality Angle  Foldings Windspeed Dominanthand  \\\n",
       "0  29.000000     20.0            A     U       8.0        On            L   \n",
       "1  23.000000     16.0            B     U       8.0        On            L   \n",
       "2  26.708451     18.0            A     L      10.0        On            R   \n",
       "3  27.000000     20.0            A     U      10.0        On            R   \n",
       "4  29.500000     17.5            B     U       5.0       Off            R   \n",
       "5  26.708451     18.5            B     L       5.0       Off            R   \n",
       "6  30.000000     19.0            B     U       8.0       Off            R   \n",
       "\n",
       "  isDominant  Distance  \n",
       "0        Yes       5.0  \n",
       "1        Yes       5.0  \n",
       "2         No       6.0  \n",
       "3        Yes       4.0  \n",
       "4        Yes       8.0  \n",
       "5        Yes       6.0  \n",
       "6        Yes       7.0  "
      ]
     },
     "execution_count": 14,
     "metadata": {},
     "output_type": "execute_result"
    }
   ],
   "source": [
    "df.head(7)"
   ]
  },
  {
   "cell_type": "code",
   "execution_count": 15,
   "id": "8c8493bc",
   "metadata": {},
   "outputs": [
    {
     "data": {
      "text/plain": [
       "6.0     20\n",
       "5.0     18\n",
       "7.0     17\n",
       "8.0      8\n",
       "3.0      7\n",
       "4.0      6\n",
       "9.0      6\n",
       "11.0     2\n",
       "1.0      2\n",
       "10.0     2\n",
       "Name: Distance, dtype: int64"
      ]
     },
     "execution_count": 15,
     "metadata": {},
     "output_type": "execute_result"
    }
   ],
   "source": [
    "df['Distance'].value_counts()"
   ]
  },
  {
   "cell_type": "code",
   "execution_count": 16,
   "id": "910115b1",
   "metadata": {},
   "outputs": [],
   "source": [
    "df.loc[ df[\"Distance\"] < 6, \"Distance\"] = 0\n",
    "df.loc[df[\"Distance\"] != 0, \"Distance\"] = 1"
   ]
  },
  {
   "cell_type": "markdown",
   "id": "92c1b9d1",
   "metadata": {},
   "source": [
    "### for val <=6 is represented as 0\n",
    "### for val >=5 is represented as 1"
   ]
  },
  {
   "cell_type": "code",
   "execution_count": 17,
   "id": "e058db1b",
   "metadata": {
    "scrolled": true
   },
   "outputs": [
    {
     "data": {
      "text/plain": [
       "1.0    55\n",
       "0.0    33\n",
       "Name: Distance, dtype: int64"
      ]
     },
     "execution_count": 17,
     "metadata": {},
     "output_type": "execute_result"
    }
   ],
   "source": [
    "df['Distance'].value_counts()"
   ]
  },
  {
   "cell_type": "code",
   "execution_count": 18,
   "id": "9bc514d3",
   "metadata": {},
   "outputs": [
    {
     "data": {
      "text/html": [
       "<div>\n",
       "<style scoped>\n",
       "    .dataframe tbody tr th:only-of-type {\n",
       "        vertical-align: middle;\n",
       "    }\n",
       "\n",
       "    .dataframe tbody tr th {\n",
       "        vertical-align: top;\n",
       "    }\n",
       "\n",
       "    .dataframe thead th {\n",
       "        text-align: right;\n",
       "    }\n",
       "</style>\n",
       "<table border=\"1\" class=\"dataframe\">\n",
       "  <thead>\n",
       "    <tr style=\"text-align: right;\">\n",
       "      <th></th>\n",
       "      <th>Length</th>\n",
       "      <th>Breadth</th>\n",
       "      <th>PaperQuality</th>\n",
       "      <th>Angle</th>\n",
       "      <th>Foldings</th>\n",
       "      <th>Windspeed</th>\n",
       "      <th>Dominanthand</th>\n",
       "      <th>isDominant</th>\n",
       "      <th>Distance</th>\n",
       "    </tr>\n",
       "  </thead>\n",
       "  <tbody>\n",
       "    <tr>\n",
       "      <th>0</th>\n",
       "      <td>29.000000</td>\n",
       "      <td>20.0</td>\n",
       "      <td>A</td>\n",
       "      <td>U</td>\n",
       "      <td>8.0</td>\n",
       "      <td>On</td>\n",
       "      <td>L</td>\n",
       "      <td>Yes</td>\n",
       "      <td>0.0</td>\n",
       "    </tr>\n",
       "    <tr>\n",
       "      <th>1</th>\n",
       "      <td>23.000000</td>\n",
       "      <td>16.0</td>\n",
       "      <td>B</td>\n",
       "      <td>U</td>\n",
       "      <td>8.0</td>\n",
       "      <td>On</td>\n",
       "      <td>L</td>\n",
       "      <td>Yes</td>\n",
       "      <td>0.0</td>\n",
       "    </tr>\n",
       "    <tr>\n",
       "      <th>2</th>\n",
       "      <td>26.708451</td>\n",
       "      <td>18.0</td>\n",
       "      <td>A</td>\n",
       "      <td>L</td>\n",
       "      <td>10.0</td>\n",
       "      <td>On</td>\n",
       "      <td>R</td>\n",
       "      <td>No</td>\n",
       "      <td>1.0</td>\n",
       "    </tr>\n",
       "    <tr>\n",
       "      <th>3</th>\n",
       "      <td>27.000000</td>\n",
       "      <td>20.0</td>\n",
       "      <td>A</td>\n",
       "      <td>U</td>\n",
       "      <td>10.0</td>\n",
       "      <td>On</td>\n",
       "      <td>R</td>\n",
       "      <td>Yes</td>\n",
       "      <td>0.0</td>\n",
       "    </tr>\n",
       "    <tr>\n",
       "      <th>4</th>\n",
       "      <td>29.500000</td>\n",
       "      <td>17.5</td>\n",
       "      <td>B</td>\n",
       "      <td>U</td>\n",
       "      <td>5.0</td>\n",
       "      <td>Off</td>\n",
       "      <td>R</td>\n",
       "      <td>Yes</td>\n",
       "      <td>1.0</td>\n",
       "    </tr>\n",
       "    <tr>\n",
       "      <th>5</th>\n",
       "      <td>26.708451</td>\n",
       "      <td>18.5</td>\n",
       "      <td>B</td>\n",
       "      <td>L</td>\n",
       "      <td>5.0</td>\n",
       "      <td>Off</td>\n",
       "      <td>R</td>\n",
       "      <td>Yes</td>\n",
       "      <td>1.0</td>\n",
       "    </tr>\n",
       "    <tr>\n",
       "      <th>6</th>\n",
       "      <td>30.000000</td>\n",
       "      <td>19.0</td>\n",
       "      <td>B</td>\n",
       "      <td>U</td>\n",
       "      <td>8.0</td>\n",
       "      <td>Off</td>\n",
       "      <td>R</td>\n",
       "      <td>Yes</td>\n",
       "      <td>1.0</td>\n",
       "    </tr>\n",
       "    <tr>\n",
       "      <th>7</th>\n",
       "      <td>25.000000</td>\n",
       "      <td>17.0</td>\n",
       "      <td>B</td>\n",
       "      <td>U</td>\n",
       "      <td>8.0</td>\n",
       "      <td>On</td>\n",
       "      <td>R</td>\n",
       "      <td>Yes</td>\n",
       "      <td>1.0</td>\n",
       "    </tr>\n",
       "  </tbody>\n",
       "</table>\n",
       "</div>"
      ],
      "text/plain": [
       "      Length  Breadth PaperQuality Angle  Foldings Windspeed Dominanthand  \\\n",
       "0  29.000000     20.0            A     U       8.0        On            L   \n",
       "1  23.000000     16.0            B     U       8.0        On            L   \n",
       "2  26.708451     18.0            A     L      10.0        On            R   \n",
       "3  27.000000     20.0            A     U      10.0        On            R   \n",
       "4  29.500000     17.5            B     U       5.0       Off            R   \n",
       "5  26.708451     18.5            B     L       5.0       Off            R   \n",
       "6  30.000000     19.0            B     U       8.0       Off            R   \n",
       "7  25.000000     17.0            B     U       8.0        On            R   \n",
       "\n",
       "  isDominant  Distance  \n",
       "0        Yes       0.0  \n",
       "1        Yes       0.0  \n",
       "2         No       1.0  \n",
       "3        Yes       0.0  \n",
       "4        Yes       1.0  \n",
       "5        Yes       1.0  \n",
       "6        Yes       1.0  \n",
       "7        Yes       1.0  "
      ]
     },
     "execution_count": 18,
     "metadata": {},
     "output_type": "execute_result"
    }
   ],
   "source": [
    "df.head(8)"
   ]
  },
  {
   "cell_type": "code",
   "execution_count": 19,
   "id": "92b1f6c8",
   "metadata": {},
   "outputs": [
    {
     "data": {
      "text/plain": [
       "Index(['Length', 'Breadth', 'PaperQuality', 'Angle', 'Foldings', 'Windspeed',\n",
       "       'Dominanthand', 'isDominant', 'Distance'],\n",
       "      dtype='object')"
      ]
     },
     "execution_count": 19,
     "metadata": {},
     "output_type": "execute_result"
    }
   ],
   "source": [
    "df.columns"
   ]
  },
  {
   "cell_type": "code",
   "execution_count": 20,
   "id": "f5e91f51",
   "metadata": {},
   "outputs": [],
   "source": [
    "dfd = pd.get_dummies(df)"
   ]
  },
  {
   "cell_type": "code",
   "execution_count": 21,
   "id": "5e77e674",
   "metadata": {},
   "outputs": [
    {
     "data": {
      "text/html": [
       "<div>\n",
       "<style scoped>\n",
       "    .dataframe tbody tr th:only-of-type {\n",
       "        vertical-align: middle;\n",
       "    }\n",
       "\n",
       "    .dataframe tbody tr th {\n",
       "        vertical-align: top;\n",
       "    }\n",
       "\n",
       "    .dataframe thead th {\n",
       "        text-align: right;\n",
       "    }\n",
       "</style>\n",
       "<table border=\"1\" class=\"dataframe\">\n",
       "  <thead>\n",
       "    <tr style=\"text-align: right;\">\n",
       "      <th></th>\n",
       "      <th>Length</th>\n",
       "      <th>Breadth</th>\n",
       "      <th>Foldings</th>\n",
       "      <th>Distance</th>\n",
       "      <th>PaperQuality_A</th>\n",
       "      <th>PaperQuality_B</th>\n",
       "      <th>Angle_L</th>\n",
       "      <th>Angle_U</th>\n",
       "      <th>Windspeed_Off</th>\n",
       "      <th>Windspeed_On</th>\n",
       "      <th>Dominanthand_L</th>\n",
       "      <th>Dominanthand_R</th>\n",
       "      <th>isDominant_No</th>\n",
       "      <th>isDominant_Yes</th>\n",
       "    </tr>\n",
       "  </thead>\n",
       "  <tbody>\n",
       "    <tr>\n",
       "      <th>0</th>\n",
       "      <td>29.000000</td>\n",
       "      <td>20.0</td>\n",
       "      <td>8.0</td>\n",
       "      <td>0.0</td>\n",
       "      <td>1</td>\n",
       "      <td>0</td>\n",
       "      <td>0</td>\n",
       "      <td>1</td>\n",
       "      <td>0</td>\n",
       "      <td>1</td>\n",
       "      <td>1</td>\n",
       "      <td>0</td>\n",
       "      <td>0</td>\n",
       "      <td>1</td>\n",
       "    </tr>\n",
       "    <tr>\n",
       "      <th>1</th>\n",
       "      <td>23.000000</td>\n",
       "      <td>16.0</td>\n",
       "      <td>8.0</td>\n",
       "      <td>0.0</td>\n",
       "      <td>0</td>\n",
       "      <td>1</td>\n",
       "      <td>0</td>\n",
       "      <td>1</td>\n",
       "      <td>0</td>\n",
       "      <td>1</td>\n",
       "      <td>1</td>\n",
       "      <td>0</td>\n",
       "      <td>0</td>\n",
       "      <td>1</td>\n",
       "    </tr>\n",
       "    <tr>\n",
       "      <th>2</th>\n",
       "      <td>26.708451</td>\n",
       "      <td>18.0</td>\n",
       "      <td>10.0</td>\n",
       "      <td>1.0</td>\n",
       "      <td>1</td>\n",
       "      <td>0</td>\n",
       "      <td>1</td>\n",
       "      <td>0</td>\n",
       "      <td>0</td>\n",
       "      <td>1</td>\n",
       "      <td>0</td>\n",
       "      <td>1</td>\n",
       "      <td>1</td>\n",
       "      <td>0</td>\n",
       "    </tr>\n",
       "    <tr>\n",
       "      <th>3</th>\n",
       "      <td>27.000000</td>\n",
       "      <td>20.0</td>\n",
       "      <td>10.0</td>\n",
       "      <td>0.0</td>\n",
       "      <td>1</td>\n",
       "      <td>0</td>\n",
       "      <td>0</td>\n",
       "      <td>1</td>\n",
       "      <td>0</td>\n",
       "      <td>1</td>\n",
       "      <td>0</td>\n",
       "      <td>1</td>\n",
       "      <td>0</td>\n",
       "      <td>1</td>\n",
       "    </tr>\n",
       "    <tr>\n",
       "      <th>4</th>\n",
       "      <td>29.500000</td>\n",
       "      <td>17.5</td>\n",
       "      <td>5.0</td>\n",
       "      <td>1.0</td>\n",
       "      <td>0</td>\n",
       "      <td>1</td>\n",
       "      <td>0</td>\n",
       "      <td>1</td>\n",
       "      <td>1</td>\n",
       "      <td>0</td>\n",
       "      <td>0</td>\n",
       "      <td>1</td>\n",
       "      <td>0</td>\n",
       "      <td>1</td>\n",
       "    </tr>\n",
       "  </tbody>\n",
       "</table>\n",
       "</div>"
      ],
      "text/plain": [
       "      Length  Breadth  Foldings  Distance  PaperQuality_A  PaperQuality_B  \\\n",
       "0  29.000000     20.0       8.0       0.0               1               0   \n",
       "1  23.000000     16.0       8.0       0.0               0               1   \n",
       "2  26.708451     18.0      10.0       1.0               1               0   \n",
       "3  27.000000     20.0      10.0       0.0               1               0   \n",
       "4  29.500000     17.5       5.0       1.0               0               1   \n",
       "\n",
       "   Angle_L  Angle_U  Windspeed_Off  Windspeed_On  Dominanthand_L  \\\n",
       "0        0        1              0             1               1   \n",
       "1        0        1              0             1               1   \n",
       "2        1        0              0             1               0   \n",
       "3        0        1              0             1               0   \n",
       "4        0        1              1             0               0   \n",
       "\n",
       "   Dominanthand_R  isDominant_No  isDominant_Yes  \n",
       "0               0              0               1  \n",
       "1               0              0               1  \n",
       "2               1              1               0  \n",
       "3               1              0               1  \n",
       "4               1              0               1  "
      ]
     },
     "execution_count": 21,
     "metadata": {},
     "output_type": "execute_result"
    }
   ],
   "source": [
    "dfd.head()"
   ]
  },
  {
   "cell_type": "code",
   "execution_count": 22,
   "id": "7e1c857e",
   "metadata": {},
   "outputs": [
    {
     "data": {
      "text/plain": [
       "Length          0\n",
       "Breadth         0\n",
       "PaperQuality    0\n",
       "Angle           0\n",
       "Foldings        0\n",
       "Windspeed       0\n",
       "Dominanthand    0\n",
       "isDominant      0\n",
       "Distance        0\n",
       "dtype: int64"
      ]
     },
     "execution_count": 22,
     "metadata": {},
     "output_type": "execute_result"
    }
   ],
   "source": [
    "df.isnull().sum()"
   ]
  },
  {
   "cell_type": "code",
   "execution_count": 23,
   "id": "c27e1029",
   "metadata": {},
   "outputs": [
    {
     "data": {
      "text/plain": [
       "MinMaxScaler()"
      ]
     },
     "execution_count": 23,
     "metadata": {},
     "output_type": "execute_result"
    }
   ],
   "source": [
    "scaler = MinMaxScaler()\n",
    "scaler.fit(dfd)"
   ]
  },
  {
   "cell_type": "code",
   "execution_count": 24,
   "id": "d40a344a",
   "metadata": {},
   "outputs": [],
   "source": [
    "scalerData = scaler.transform(dfd)\n",
    "scalerData = pd.DataFrame(scalerData)"
   ]
  },
  {
   "cell_type": "code",
   "execution_count": 25,
   "id": "e69c960c",
   "metadata": {},
   "outputs": [
    {
     "data": {
      "text/html": [
       "<div>\n",
       "<style scoped>\n",
       "    .dataframe tbody tr th:only-of-type {\n",
       "        vertical-align: middle;\n",
       "    }\n",
       "\n",
       "    .dataframe tbody tr th {\n",
       "        vertical-align: top;\n",
       "    }\n",
       "\n",
       "    .dataframe thead th {\n",
       "        text-align: right;\n",
       "    }\n",
       "</style>\n",
       "<table border=\"1\" class=\"dataframe\">\n",
       "  <thead>\n",
       "    <tr style=\"text-align: right;\">\n",
       "      <th></th>\n",
       "      <th>0</th>\n",
       "      <th>1</th>\n",
       "      <th>2</th>\n",
       "      <th>3</th>\n",
       "      <th>4</th>\n",
       "      <th>5</th>\n",
       "      <th>6</th>\n",
       "      <th>7</th>\n",
       "      <th>8</th>\n",
       "      <th>9</th>\n",
       "      <th>10</th>\n",
       "      <th>11</th>\n",
       "      <th>12</th>\n",
       "      <th>13</th>\n",
       "    </tr>\n",
       "  </thead>\n",
       "  <tbody>\n",
       "    <tr>\n",
       "      <th>count</th>\n",
       "      <td>88.000000</td>\n",
       "      <td>88.000000</td>\n",
       "      <td>88.000000</td>\n",
       "      <td>88.000000</td>\n",
       "      <td>88.000000</td>\n",
       "      <td>88.000000</td>\n",
       "      <td>88.000000</td>\n",
       "      <td>88.000000</td>\n",
       "      <td>88.000000</td>\n",
       "      <td>88.000000</td>\n",
       "      <td>88.000000</td>\n",
       "      <td>88.000000</td>\n",
       "      <td>88.000000</td>\n",
       "      <td>88.000000</td>\n",
       "    </tr>\n",
       "    <tr>\n",
       "      <th>mean</th>\n",
       "      <td>0.467809</td>\n",
       "      <td>0.555556</td>\n",
       "      <td>0.627273</td>\n",
       "      <td>0.625000</td>\n",
       "      <td>0.409091</td>\n",
       "      <td>0.590909</td>\n",
       "      <td>0.250000</td>\n",
       "      <td>0.750000</td>\n",
       "      <td>0.500000</td>\n",
       "      <td>0.500000</td>\n",
       "      <td>0.204545</td>\n",
       "      <td>0.795455</td>\n",
       "      <td>0.136364</td>\n",
       "      <td>0.863636</td>\n",
       "    </tr>\n",
       "    <tr>\n",
       "      <th>std</th>\n",
       "      <td>0.198449</td>\n",
       "      <td>0.297571</td>\n",
       "      <td>0.347314</td>\n",
       "      <td>0.486897</td>\n",
       "      <td>0.494484</td>\n",
       "      <td>0.494484</td>\n",
       "      <td>0.435494</td>\n",
       "      <td>0.435494</td>\n",
       "      <td>0.502865</td>\n",
       "      <td>0.502865</td>\n",
       "      <td>0.405681</td>\n",
       "      <td>0.405681</td>\n",
       "      <td>0.345141</td>\n",
       "      <td>0.345141</td>\n",
       "    </tr>\n",
       "    <tr>\n",
       "      <th>min</th>\n",
       "      <td>0.000000</td>\n",
       "      <td>0.000000</td>\n",
       "      <td>0.000000</td>\n",
       "      <td>0.000000</td>\n",
       "      <td>0.000000</td>\n",
       "      <td>0.000000</td>\n",
       "      <td>0.000000</td>\n",
       "      <td>0.000000</td>\n",
       "      <td>0.000000</td>\n",
       "      <td>0.000000</td>\n",
       "      <td>0.000000</td>\n",
       "      <td>0.000000</td>\n",
       "      <td>0.000000</td>\n",
       "      <td>0.000000</td>\n",
       "    </tr>\n",
       "    <tr>\n",
       "      <th>25%</th>\n",
       "      <td>0.375000</td>\n",
       "      <td>0.333333</td>\n",
       "      <td>0.600000</td>\n",
       "      <td>0.000000</td>\n",
       "      <td>0.000000</td>\n",
       "      <td>0.000000</td>\n",
       "      <td>0.000000</td>\n",
       "      <td>0.750000</td>\n",
       "      <td>0.000000</td>\n",
       "      <td>0.000000</td>\n",
       "      <td>0.000000</td>\n",
       "      <td>1.000000</td>\n",
       "      <td>0.000000</td>\n",
       "      <td>1.000000</td>\n",
       "    </tr>\n",
       "    <tr>\n",
       "      <th>50%</th>\n",
       "      <td>0.485423</td>\n",
       "      <td>0.555556</td>\n",
       "      <td>0.600000</td>\n",
       "      <td>1.000000</td>\n",
       "      <td>0.000000</td>\n",
       "      <td>1.000000</td>\n",
       "      <td>0.000000</td>\n",
       "      <td>1.000000</td>\n",
       "      <td>0.500000</td>\n",
       "      <td>0.500000</td>\n",
       "      <td>0.000000</td>\n",
       "      <td>1.000000</td>\n",
       "      <td>0.000000</td>\n",
       "      <td>1.000000</td>\n",
       "    </tr>\n",
       "    <tr>\n",
       "      <th>75%</th>\n",
       "      <td>0.625000</td>\n",
       "      <td>0.888889</td>\n",
       "      <td>1.000000</td>\n",
       "      <td>1.000000</td>\n",
       "      <td>1.000000</td>\n",
       "      <td>1.000000</td>\n",
       "      <td>0.250000</td>\n",
       "      <td>1.000000</td>\n",
       "      <td>1.000000</td>\n",
       "      <td>1.000000</td>\n",
       "      <td>0.000000</td>\n",
       "      <td>1.000000</td>\n",
       "      <td>0.000000</td>\n",
       "      <td>1.000000</td>\n",
       "    </tr>\n",
       "    <tr>\n",
       "      <th>max</th>\n",
       "      <td>1.000000</td>\n",
       "      <td>1.000000</td>\n",
       "      <td>1.000000</td>\n",
       "      <td>1.000000</td>\n",
       "      <td>1.000000</td>\n",
       "      <td>1.000000</td>\n",
       "      <td>1.000000</td>\n",
       "      <td>1.000000</td>\n",
       "      <td>1.000000</td>\n",
       "      <td>1.000000</td>\n",
       "      <td>1.000000</td>\n",
       "      <td>1.000000</td>\n",
       "      <td>1.000000</td>\n",
       "      <td>1.000000</td>\n",
       "    </tr>\n",
       "  </tbody>\n",
       "</table>\n",
       "</div>"
      ],
      "text/plain": [
       "              0          1          2          3          4          5   \\\n",
       "count  88.000000  88.000000  88.000000  88.000000  88.000000  88.000000   \n",
       "mean    0.467809   0.555556   0.627273   0.625000   0.409091   0.590909   \n",
       "std     0.198449   0.297571   0.347314   0.486897   0.494484   0.494484   \n",
       "min     0.000000   0.000000   0.000000   0.000000   0.000000   0.000000   \n",
       "25%     0.375000   0.333333   0.600000   0.000000   0.000000   0.000000   \n",
       "50%     0.485423   0.555556   0.600000   1.000000   0.000000   1.000000   \n",
       "75%     0.625000   0.888889   1.000000   1.000000   1.000000   1.000000   \n",
       "max     1.000000   1.000000   1.000000   1.000000   1.000000   1.000000   \n",
       "\n",
       "              6          7          8          9          10         11  \\\n",
       "count  88.000000  88.000000  88.000000  88.000000  88.000000  88.000000   \n",
       "mean    0.250000   0.750000   0.500000   0.500000   0.204545   0.795455   \n",
       "std     0.435494   0.435494   0.502865   0.502865   0.405681   0.405681   \n",
       "min     0.000000   0.000000   0.000000   0.000000   0.000000   0.000000   \n",
       "25%     0.000000   0.750000   0.000000   0.000000   0.000000   1.000000   \n",
       "50%     0.000000   1.000000   0.500000   0.500000   0.000000   1.000000   \n",
       "75%     0.250000   1.000000   1.000000   1.000000   0.000000   1.000000   \n",
       "max     1.000000   1.000000   1.000000   1.000000   1.000000   1.000000   \n",
       "\n",
       "              12         13  \n",
       "count  88.000000  88.000000  \n",
       "mean    0.136364   0.863636  \n",
       "std     0.345141   0.345141  \n",
       "min     0.000000   0.000000  \n",
       "25%     0.000000   1.000000  \n",
       "50%     0.000000   1.000000  \n",
       "75%     0.000000   1.000000  \n",
       "max     1.000000   1.000000  "
      ]
     },
     "execution_count": 25,
     "metadata": {},
     "output_type": "execute_result"
    }
   ],
   "source": [
    "scalerData.describe()"
   ]
  },
  {
   "cell_type": "code",
   "execution_count": 26,
   "id": "3e4fe7c6",
   "metadata": {},
   "outputs": [],
   "source": [
    "x = dfd.drop(['Distance'],axis=1)"
   ]
  },
  {
   "cell_type": "code",
   "execution_count": 27,
   "id": "2ce74504",
   "metadata": {
    "scrolled": true
   },
   "outputs": [],
   "source": [
    "y = dfd['Distance']"
   ]
  },
  {
   "cell_type": "code",
   "execution_count": 28,
   "id": "a18eaad7",
   "metadata": {},
   "outputs": [],
   "source": [
    "train_x,test_x,train_y,test_y = train_test_split(x,y,test_size=0.2,random_state=42)"
   ]
  },
  {
   "cell_type": "markdown",
   "id": "13570c83",
   "metadata": {},
   "source": [
    "## random forest regression"
   ]
  },
  {
   "cell_type": "code",
   "execution_count": 29,
   "id": "2ba0b5bf",
   "metadata": {},
   "outputs": [],
   "source": [
    "regressor=RandomForestRegressor(random_state=42)"
   ]
  },
  {
   "cell_type": "code",
   "execution_count": 30,
   "id": "4bf29b3f",
   "metadata": {},
   "outputs": [
    {
     "data": {
      "text/plain": [
       "RandomForestRegressor(random_state=42)"
      ]
     },
     "execution_count": 30,
     "metadata": {},
     "output_type": "execute_result"
    }
   ],
   "source": [
    "regressor.fit(train_x,train_y)"
   ]
  },
  {
   "cell_type": "code",
   "execution_count": 31,
   "id": "e5e555fa",
   "metadata": {},
   "outputs": [
    {
     "data": {
      "text/plain": [
       "array([0.64603571, 0.99107143, 0.12583333, 0.3479246 , 0.82005952,\n",
       "       0.64603571, 0.662     , 0.91166667, 0.73249603, 0.57540476,\n",
       "       0.85271734, 0.6371443 , 0.23055952, 0.65427778, 0.91166667,\n",
       "       0.57042044, 0.75544048, 0.99107143])"
      ]
     },
     "execution_count": 31,
     "metadata": {},
     "output_type": "execute_result"
    }
   ],
   "source": [
    "regressor.predict(test_x)"
   ]
  },
  {
   "cell_type": "code",
   "execution_count": 32,
   "id": "03316d55",
   "metadata": {},
   "outputs": [
    {
     "data": {
      "text/plain": [
       "array([0.75544048, 0.57042044, 0.75544048, 0.6371443 , 0.99314286,\n",
       "       0.1202381 , 0.23055952, 0.23055952, 0.91166667, 0.51466667,\n",
       "       0.23055952, 0.87071429, 0.9251057 , 0.99107143, 0.40835714,\n",
       "       0.57042044, 0.85177778, 0.57042044, 0.99314286, 0.73249603,\n",
       "       0.85271734, 0.85271734, 0.98190476, 0.20020238, 0.99107143,\n",
       "       0.75544048, 0.20020238, 0.51466667, 0.20020238, 0.09157143,\n",
       "       0.98190476, 0.85271734, 0.98190476, 0.65427778, 0.98190476,\n",
       "       0.6371443 , 0.64603571, 0.6371443 , 0.85271734, 0.36938095,\n",
       "       0.57042044, 0.36938095, 0.73249603, 0.1325    , 0.85271734,\n",
       "       0.91166667, 0.9251057 , 0.73249603, 0.75544048, 0.99107143,\n",
       "       0.64603571, 0.73249603, 0.31965079, 0.85271734, 0.23055952,\n",
       "       0.36938095, 0.57042044, 0.65427778, 0.6371443 , 0.6371443 ,\n",
       "       0.31965079, 0.64603571, 0.31965079, 0.6371443 , 0.40835714,\n",
       "       0.57042044, 0.20020238, 0.99314286, 0.65427778, 0.57042044])"
      ]
     },
     "execution_count": 32,
     "metadata": {},
     "output_type": "execute_result"
    }
   ],
   "source": [
    "regressor.predict(train_x)"
   ]
  },
  {
   "cell_type": "code",
   "execution_count": 33,
   "id": "d222b302",
   "metadata": {},
   "outputs": [
    {
     "data": {
      "text/plain": [
       "1.0"
      ]
     },
     "execution_count": 33,
     "metadata": {},
     "output_type": "execute_result"
    }
   ],
   "source": [
    "regressor.score(test_x,regressor.predict(test_x))"
   ]
  },
  {
   "cell_type": "markdown",
   "id": "a7ef8cb3",
   "metadata": {},
   "source": [
    "## GradientBoosting Classifier"
   ]
  },
  {
   "cell_type": "code",
   "execution_count": 34,
   "id": "5ab770ac",
   "metadata": {},
   "outputs": [],
   "source": [
    "mgc=GradientBoostingClassifier(n_estimators=100,max_depth=2,random_state=42)"
   ]
  },
  {
   "cell_type": "code",
   "execution_count": 35,
   "id": "5a1a38bf",
   "metadata": {},
   "outputs": [
    {
     "data": {
      "text/plain": [
       "GradientBoostingClassifier(max_depth=2, random_state=42)"
      ]
     },
     "execution_count": 35,
     "metadata": {},
     "output_type": "execute_result"
    }
   ],
   "source": [
    "mgc.fit(train_x,train_y)"
   ]
  },
  {
   "cell_type": "code",
   "execution_count": 36,
   "id": "9042b05d",
   "metadata": {},
   "outputs": [
    {
     "data": {
      "text/plain": [
       "0.7817359599705717"
      ]
     },
     "execution_count": 36,
     "metadata": {},
     "output_type": "execute_result"
    }
   ],
   "source": [
    "mean_squared_error(test_y,mgc.predict(test_x),squared=False)"
   ]
  },
  {
   "cell_type": "markdown",
   "id": "a739aea7",
   "metadata": {},
   "source": [
    "\n",
    "\n",
    "### Logistic Regression"
   ]
  },
  {
   "cell_type": "code",
   "execution_count": 37,
   "id": "f6c5e559",
   "metadata": {},
   "outputs": [],
   "source": [
    "logreg=LogisticRegression()"
   ]
  },
  {
   "cell_type": "code",
   "execution_count": 38,
   "id": "07a71157",
   "metadata": {},
   "outputs": [
    {
     "name": "stderr",
     "output_type": "stream",
     "text": [
      "C:\\ProgramData\\Anaconda3\\lib\\site-packages\\sklearn\\linear_model\\_logistic.py:763: ConvergenceWarning: lbfgs failed to converge (status=1):\n",
      "STOP: TOTAL NO. of ITERATIONS REACHED LIMIT.\n",
      "\n",
      "Increase the number of iterations (max_iter) or scale the data as shown in:\n",
      "    https://scikit-learn.org/stable/modules/preprocessing.html\n",
      "Please also refer to the documentation for alternative solver options:\n",
      "    https://scikit-learn.org/stable/modules/linear_model.html#logistic-regression\n",
      "  n_iter_i = _check_optimize_result(\n"
     ]
    },
    {
     "data": {
      "text/plain": [
       "LogisticRegression()"
      ]
     },
     "execution_count": 38,
     "metadata": {},
     "output_type": "execute_result"
    }
   ],
   "source": [
    "logreg.fit(train_x,train_y)"
   ]
  },
  {
   "cell_type": "code",
   "execution_count": 40,
   "id": "19d94257",
   "metadata": {},
   "outputs": [
    {
     "data": {
      "text/plain": [
       "0.7817359599705717"
      ]
     },
     "execution_count": 40,
     "metadata": {},
     "output_type": "execute_result"
    }
   ],
   "source": [
    "mean_squared_error(test_y,logreg.predict(test_x),squared=False)"
   ]
  },
  {
   "cell_type": "markdown",
   "id": "f0ffcb37",
   "metadata": {},
   "source": [
    "### Decision tree class"
   ]
  },
  {
   "cell_type": "code",
   "execution_count": 41,
   "id": "4e7a461c",
   "metadata": {},
   "outputs": [
    {
     "data": {
      "text/plain": [
       "DecisionTreeClassifier(random_state=42)"
      ]
     },
     "execution_count": 41,
     "metadata": {},
     "output_type": "execute_result"
    }
   ],
   "source": [
    "modeldtc = tree.DecisionTreeClassifier(random_state=42)\n",
    "modeldtc.fit(train_x,train_y)"
   ]
  },
  {
   "cell_type": "code",
   "execution_count": 42,
   "id": "5009c54c",
   "metadata": {},
   "outputs": [
    {
     "data": {
      "text/plain": [
       "0.7071067811865476"
      ]
     },
     "execution_count": 42,
     "metadata": {},
     "output_type": "execute_result"
    }
   ],
   "source": [
    "mean_squared_error(test_y,modeldtc.predict(test_x),squared=False)"
   ]
  },
  {
   "cell_type": "markdown",
   "id": "82f2f6e4",
   "metadata": {},
   "source": [
    "### predictions"
   ]
  },
  {
   "cell_type": "code",
   "execution_count": 47,
   "id": "b5cf37c7",
   "metadata": {},
   "outputs": [
    {
     "data": {
      "text/plain": [
       "array([1., 1., 0., 1., 1., 1., 1., 1., 1., 1., 1., 1., 0., 1., 1., 1., 0.,\n",
       "       1.])"
      ]
     },
     "execution_count": 47,
     "metadata": {},
     "output_type": "execute_result"
    }
   ],
   "source": [
    "logreg.predict(test_x)"
   ]
  },
  {
   "cell_type": "code",
   "execution_count": 48,
   "id": "d0dd2cee",
   "metadata": {},
   "outputs": [
    {
     "data": {
      "text/plain": [
       "0.3888888888888889"
      ]
     },
     "execution_count": 48,
     "metadata": {},
     "output_type": "execute_result"
    }
   ],
   "source": [
    "accuracy_score(test_y, logreg.predict(test_x))"
   ]
  },
  {
   "cell_type": "code",
   "execution_count": 49,
   "id": "60026863",
   "metadata": {},
   "outputs": [
    {
     "data": {
      "text/plain": [
       "76    1.0\n",
       "0     0.0\n",
       "26    1.0\n",
       "22    1.0\n",
       "12    0.0\n",
       "67    1.0\n",
       "10    0.0\n",
       "18    1.0\n",
       "4     1.0\n",
       "68    0.0\n",
       "85    0.0\n",
       "65    0.0\n",
       "53    1.0\n",
       "80    0.0\n",
       "84    0.0\n",
       "64    1.0\n",
       "33    1.0\n",
       "79    1.0\n",
       "Name: Distance, dtype: float64"
      ]
     },
     "execution_count": 49,
     "metadata": {},
     "output_type": "execute_result"
    }
   ],
   "source": [
    "test_y"
   ]
  },
  {
   "cell_type": "code",
   "execution_count": 51,
   "id": "bfc3d558",
   "metadata": {},
   "outputs": [
    {
     "data": {
      "text/plain": [
       "0.7817359599705717"
      ]
     },
     "execution_count": 51,
     "metadata": {},
     "output_type": "execute_result"
    }
   ],
   "source": [
    "mean_squared_error(test_y, logreg.predict(test_x), squared=False)"
   ]
  },
  {
   "cell_type": "markdown",
   "id": "77154863",
   "metadata": {},
   "source": [
    "## AdaBoosting Classifier"
   ]
  },
  {
   "cell_type": "code",
   "execution_count": 52,
   "id": "4e409dee",
   "metadata": {},
   "outputs": [],
   "source": [
    "from sklearn.ensemble import AdaBoostClassifier\n",
    "from sklearn import metrics"
   ]
  },
  {
   "cell_type": "code",
   "execution_count": 53,
   "id": "11704c78",
   "metadata": {},
   "outputs": [],
   "source": [
    "abc = AdaBoostClassifier(n_estimators=50,learning_rate=1)\n",
    "model = abc.fit(train_x,train_y)"
   ]
  },
  {
   "cell_type": "code",
   "execution_count": 54,
   "id": "0d2ecf67",
   "metadata": {},
   "outputs": [],
   "source": [
    "pred = model.predict(test_x)"
   ]
  },
  {
   "cell_type": "code",
   "execution_count": 55,
   "id": "17f28948",
   "metadata": {},
   "outputs": [
    {
     "data": {
      "text/plain": [
       "0.7453559924999299"
      ]
     },
     "execution_count": 55,
     "metadata": {},
     "output_type": "execute_result"
    }
   ],
   "source": [
    "mean_squared_error(test_y, model.predict(test_x), squared=False)"
   ]
  },
  {
   "cell_type": "code",
   "execution_count": null,
   "id": "5fcd7b7d",
   "metadata": {},
   "outputs": [],
   "source": []
  }
 ],
 "metadata": {
  "kernelspec": {
   "display_name": "Python 3 (ipykernel)",
   "language": "python",
   "name": "python3"
  },
  "language_info": {
   "codemirror_mode": {
    "name": "ipython",
    "version": 3
   },
   "file_extension": ".py",
   "mimetype": "text/x-python",
   "name": "python",
   "nbconvert_exporter": "python",
   "pygments_lexer": "ipython3",
   "version": "3.9.7"
  }
 },
 "nbformat": 4,
 "nbformat_minor": 5
}
